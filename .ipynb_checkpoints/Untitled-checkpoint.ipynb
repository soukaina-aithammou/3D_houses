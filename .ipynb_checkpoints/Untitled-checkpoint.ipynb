{
 "cells": [
  {
   "cell_type": "code",
   "execution_count": null,
   "metadata": {},
   "outputs": [],
   "source": [
    "import rasterio\n",
    "import geopandas\n",
    "from glob import glob  \n",
    "import os\n",
    "import natsort\n"
   ]
  },
  {
   "cell_type": "code",
   "execution_count": null,
   "metadata": {},
   "outputs": [],
   "source": [
    "path = '/home/soukaina/project_3D_houses/3D_houses/tiff_dtm_dsm/tiff_dtm/tiff_dtm_file'\n"
   ]
  },
  {
   "cell_type": "code",
   "execution_count": null,
   "metadata": {},
   "outputs": [],
   "source": [
    "tif_dsm_lst = [file for file in os.listdir('/home/soukaina/project_3D_houses/3D_houses/tiff_dtm_dsm/tiff_dsm_file')\n",
    "                    if file.endswith(\".tif\")\n",
    "                    and not file.endswith(\"_mask.tif\")]"
   ]
  },
  {
   "cell_type": "code",
   "execution_count": null,
   "metadata": {},
   "outputs": [],
   "source": [
    "tif_dsm_lst=natsort.natsorted(tif_dsm_lst,reverse=False)\n",
    "tif_dsm_lst"
   ]
  },
  {
   "cell_type": "code",
   "execution_count": null,
   "metadata": {},
   "outputs": [],
   "source": [
    "bound_box_dsm=[]\n",
    "for i in tif_dsm_lst:\n",
    "    b = rasterio.open('/home/soukaina/project_3D_houses/3D_houses/tiff_dtm_dsm/tiff_dsm_file/{}'.format(i))\n",
    "    bound_box_dsm.append(b.bounds)\n",
    "bound_box_dsm    "
   ]
  },
  {
   "cell_type": "code",
   "execution_count": null,
   "metadata": {},
   "outputs": [],
   "source": [
    "def check_tif(l,b,r,t,x,y):\n",
    "    if(x > l and x < r and y > b and y < t):\n",
    "        print('yes')\n",
    "    else:\n",
    "\n",
    "        print('no')\n",
    "      "
   ]
  },
  {
   "cell_type": "code",
   "execution_count": null,
   "metadata": {},
   "outputs": [],
   "source": [
    "l,b,r,t=(130000.0, 198000.0, 162000.0, 218000.0)\n",
    "x,y=(146160.50324060023, 206465.0277933143)"
   ]
  },
  {
   "cell_type": "code",
   "execution_count": null,
   "metadata": {},
   "outputs": [],
   "source": [
    "a=check_tif(l,b,r,t,x,y)"
   ]
  },
  {
   "cell_type": "code",
   "execution_count": null,
   "metadata": {},
   "outputs": [],
   "source": [
    "# for i in range(7):\n",
    "#     print(tif_dsm_lst[i])\n",
    "#     print(bound_box_dsm[i])\n",
    "#     i+=1"
   ]
  },
  {
   "cell_type": "code",
   "execution_count": null,
   "metadata": {},
   "outputs": [],
   "source": [
    "# l,b,r,t=(130000.0, 198000.0, 162000.0, 218000.0)\n",
    "# if (l,b,r,t) :\n",
    "#     print('y')\n",
    "# else:\n",
    "#     print('n')"
   ]
  },
  {
   "cell_type": "code",
   "execution_count": null,
   "metadata": {},
   "outputs": [],
   "source": [
    "import rasterio\n"
   ]
  },
  {
   "cell_type": "code",
   "execution_count": null,
   "metadata": {},
   "outputs": [],
   "source": [
    "from rasterio.plot import show\n"
   ]
  },
  {
   "cell_type": "code",
   "execution_count": null,
   "metadata": {},
   "outputs": [],
   "source": [
    "from rasterio.plot import show_hist\n",
    "from rasterio.mask import mask"
   ]
  },
  {
   "cell_type": "code",
   "execution_count": null,
   "metadata": {},
   "outputs": [],
   "source": [
    "fp='/home/soukaina/project_3D_houses/3D_houses/tiff_dtm_dsm/tiff_dsm_file/DHMVIIDSMRAS1m_k15.tif'"
   ]
  },
  {
   "cell_type": "code",
   "execution_count": null,
   "metadata": {},
   "outputs": [],
   "source": [
    "data = rasterio.open(fp)\n"
   ]
  },
  {
   "cell_type": "code",
   "execution_count": null,
   "metadata": {},
   "outputs": [],
   "source": [
    "data"
   ]
  },
  {
   "cell_type": "code",
   "execution_count": null,
   "metadata": {},
   "outputs": [],
   "source": [
    "# show((data, 1), cmap='terrain')"
   ]
  },
  {
   "cell_type": "code",
   "execution_count": null,
   "metadata": {},
   "outputs": [],
   "source": [
    "with rasterio.open(\"/home/soukaina/project_3D_houses/3D_houses/tiff_dtm_dsm/tiff_dsm_file/DHMVIIDSMRAS1m_k01.tif\") as src:\n",
    "    out_image, out_transform = rasterio.mask.mask(src, shape, crop=True)\n",
    "    out_meta = src.meta"
   ]
  },
  {
   "cell_type": "code",
   "execution_count": null,
   "metadata": {},
   "outputs": [],
   "source": [
    "from shapely.geometry import polygon\n"
   ]
  },
  {
   "cell_type": "code",
   "execution_count": null,
   "metadata": {},
   "outputs": [],
   "source": [
    "shape=[146168.25696860254, 206466.4900653176]\n",
    "  "
   ]
  },
  {
   "cell_type": "code",
   "execution_count": null,
   "metadata": {},
   "outputs": [],
   "source": [
    "coords=([[[146168.25696860254, 206466.4900653176],\n",
    "  [146155.22554459423, 206473.24027331918],\n",
    "  [146152.87034459412, 206468.8621613197],\n",
    "  [146152.39623259008, 206467.98049731553],\n",
    "  [146159.9523286, 206463.96948931366],\n",
    "  [146160.50324060023, 206465.0277933143],\n",
    "  [146164.87572060525, 206462.89275331423],\n",
    "  [146165.61965660006, 206464.3053613156],\n",
    "  [146169.51648860425, 206462.25480131432],\n",
    "  [146170.99770460278, 206465.06977731362],\n",
    "  [146168.25696860254, 206466.4900653176]]])"
   ]
  },
  {
   "cell_type": "code",
   "execution_count": null,
   "metadata": {},
   "outputs": [],
   "source": [
    "data= rasterio.open(\"/home/soukaina/project_3D_houses/3D_houses/tiff_dtm_dsm/tiff_dsm_file/DHMVIIDSMRAS1m_k01.tif\")"
   ]
  },
  {
   "cell_type": "code",
   "execution_count": 3,
   "metadata": {},
   "outputs": [
    {
     "ename": "NameError",
     "evalue": "name 'd5' is not defined",
     "output_type": "error",
     "traceback": [
      "\u001b[0;31m---------------------------------------------------------------------------\u001b[0m",
      "\u001b[0;31mNameError\u001b[0m                                 Traceback (most recent call last)",
      "\u001b[0;32m<ipython-input-3-c42a11530230>\u001b[0m in \u001b[0;36m<module>\u001b[0;34m\u001b[0m\n\u001b[1;32m      1\u001b[0m \u001b[0;32mfrom\u001b[0m \u001b[0mshapely\u001b[0m\u001b[0;34m.\u001b[0m\u001b[0mgeometry\u001b[0m \u001b[0;32mimport\u001b[0m \u001b[0mPolygon\u001b[0m\u001b[0;34m\u001b[0m\u001b[0;34m\u001b[0m\u001b[0m\n\u001b[1;32m      2\u001b[0m \u001b[0;34m\u001b[0m\u001b[0m\n\u001b[0;32m----> 3\u001b[0;31m \u001b[0mcoord\u001b[0m \u001b[0;34m=\u001b[0m \u001b[0mPolygon\u001b[0m\u001b[0;34m(\u001b[0m\u001b[0md5\u001b[0m\u001b[0;34m[\u001b[0m\u001b[0;34m'geometriePolygoon'\u001b[0m\u001b[0;34m]\u001b[0m\u001b[0;34m[\u001b[0m\u001b[0;34m'polygon'\u001b[0m\u001b[0;34m]\u001b[0m\u001b[0;34m[\u001b[0m\u001b[0;34m'coordinates'\u001b[0m\u001b[0;34m]\u001b[0m\u001b[0;34m[\u001b[0m\u001b[0;36m0\u001b[0m\u001b[0;34m]\u001b[0m\u001b[0;34m)\u001b[0m\u001b[0;34m\u001b[0m\u001b[0;34m\u001b[0m\u001b[0m\n\u001b[0m\u001b[1;32m      4\u001b[0m \u001b[0;31m# print(type(coord))\u001b[0m\u001b[0;34m\u001b[0m\u001b[0;34m\u001b[0m\u001b[0;34m\u001b[0m\u001b[0m\n\u001b[1;32m      5\u001b[0m \u001b[0mprint\u001b[0m\u001b[0;34m(\u001b[0m\u001b[0mcoord\u001b[0m\u001b[0;34m)\u001b[0m\u001b[0;34m\u001b[0m\u001b[0;34m\u001b[0m\u001b[0m\n",
      "\u001b[0;31mNameError\u001b[0m: name 'd5' is not defined"
     ]
    }
   ],
   "source": [
    "from shapely.geometry import Polygon\n",
    "\n",
    "coord = Polygon(d5['geometriePolygoon']['polygon']['coordinates'][0])\n",
    "# print(type(coord))\n",
    "print(coord)"
   ]
  },
  {
   "cell_type": "code",
   "execution_count": null,
   "metadata": {},
   "outputs": [],
   "source": [
    "path=r'/home/soukaina/dtm dsm/dtm/tiff_dtm/DHMVIIDTMRAS1m_k15.tif'\n",
    "xds = rioxarray.open_rasterio(path,masked=True,chunks=True)\n",
    "clipped_dtm = xds.rio.clip([coord],from_disk=True)\n",
    "clipped_dtm.plot()\n",
    "clip_dtm_file = clipped_dtm.rio.to_raster(address +\"_clipped_dtm.tif\",tiled=True, dtype=\"int32\")"
   ]
  },
  {
   "cell_type": "code",
   "execution_count": null,
   "metadata": {},
   "outputs": [],
   "source": [
    "path1='/home/soukaina/project_3D_houses/3D_houses/tiff_dtm_dsm/tiff_dsm_file/DHMVIIDSMRAS1m_k15.tif'\n",
    "xds = rioxarray.open_rasterio(path1,masked=True,chunks=True)\n",
    "clipped_dsm = xds.rio.clip([coord],from_disk=True)\n",
    "clipped_dsm.plot()"
   ]
  },
  {
   "cell_type": "code",
   "execution_count": null,
   "metadata": {},
   "outputs": [],
   "source": [
    "clip_dsm_file = clipped_dsm.rio.to_raster(address +\"_clipped_dsm.tif\",tiled=True, dtype=\"int32\")"
   ]
  },
  {
   "cell_type": "code",
   "execution_count": null,
   "metadata": {},
   "outputs": [],
   "source": [
    "with rasterio.open(address +'_clipped_dtm.tif') as src:\n",
    "    lidar_dtm = src.read(1, masked=True)\n",
    "    dtm_meta = src.profile\n",
    "    print(lidar_dtm)\n",
    "        \n",
    "    # open the digital surface model \n",
    "with rasterio.open(address +'_clipped_dsm.tif') as src:\n",
    "    lidar_dsm= src.read(1, masked=True)\n",
    "    dsm_meta = src.profile\n",
    "    print(dsm_meta)\n",
    "lidar_chm=lidar_dsm-lidar_dtm    "
   ]
  },
  {
   "cell_type": "code",
   "execution_count": null,
   "metadata": {},
   "outputs": [],
   "source": [
    "with rasterio.open(address +'_clipped_chm.tif', 'w',**dsm_meta) as ff:\n",
    "    ff.write(lidar_chm,1)\n",
    "        \n",
    "chm_tif = address +'_clipped_chm.tif'"
   ]
  },
  {
   "cell_type": "code",
   "execution_count": null,
   "metadata": {},
   "outputs": [],
   "source": [
    "chm_=imageio.imread('/home/soukaina/project_3D_houses/3D_houses/Polderstraat 8 9150 Kruibeke_clipped_chm.tif')\n",
    "fig= go.Figure(data = go.Surface(z=chm_))\n",
    "\n",
    "fig.update_layout(title='Polderstraat 8, 2910 Kruibeke', autosize=False,\n",
    "  width=600, height=600)\n",
    "fig.show()\n"
   ]
  }
 ],
 "metadata": {
  "kernelspec": {
   "display_name": "Python 3",
   "language": "python",
   "name": "python3"
  },
  "language_info": {
   "codemirror_mode": {
    "name": "ipython",
    "version": 3
   },
   "file_extension": ".py",
   "mimetype": "text/x-python",
   "name": "python",
   "nbconvert_exporter": "python",
   "pygments_lexer": "ipython3",
   "version": "3.8.10"
  }
 },
 "nbformat": 4,
 "nbformat_minor": 4
}
