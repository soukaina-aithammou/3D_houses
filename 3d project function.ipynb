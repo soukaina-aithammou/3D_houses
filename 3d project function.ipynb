{
 "cells": [
  {
   "cell_type": "code",
   "execution_count": 1,
   "metadata": {},
   "outputs": [],
   "source": [
    "#import libraries\n",
    "import matplotlib.pyplot as plt\n",
    "from shapely.geometry import polygon\n",
    "%matplotlib inline\n",
    "\n",
    "import numpy as np\n",
    "import xarray as xr\n",
    "import mapclassify as mc\n",
    "import matplotlib.pyplot as plt\n",
    "\n",
    "import warnings\n",
    "warnings.filterwarnings(\"ignore\")\n",
    "import requests\n",
    "import json\n",
    "import urllib.request as urllib2\n",
    "from matplotlib import pyplot as plt\n",
    "from shapely.geometry.polygon import Polygon\n",
    "from descartes import PolygonPatch\n",
    "import plotly.graph_objects as go\n",
    "import numpy as np\n",
    "import rioxarray\n",
    "from shapely.geometry import Polygon\n",
    "import imageio\n",
    "import pandas as pd\n",
    "\n",
    "import rasterio\n",
    "import geopandas\n",
    "from glob import glob  \n",
    "import os\n",
    "import natsort\n",
    "\n",
    "import gdal"
   ]
  },
  {
   "cell_type": "code",
   "execution_count": 2,
   "metadata": {},
   "outputs": [],
   "source": [
    "#links of DTM and DSM to upload tif files\n",
    "dtm_link='https://www.geopunt.be/download?container=dhm-vlaanderen-ii-dsm-raster-1m&title=Digitaal%20Hoogtemodel%20Vlaanderen%20II,%20DSM,%20raster,%201m'\n",
    "dsm_link='https://www.geopunt.be/download?container=dhm-vlaanderen-ii-dtm-raster-1m&title=Digitaal%20Hoogtemodel%20Vlaanderen%20II,%20DTM,%20raster,%201m'"
   ]
  },
  {
   "cell_type": "code",
   "execution_count": 3,
   "metadata": {},
   "outputs": [],
   "source": [
    "#the api link to extract data\n",
    "# api_link=\"https://api.basisregisters.vlaanderen.be/v1/adresmatch\"\n",
    "\n",
    "#the address of the house  \n",
    "# address='Berkenlaan 6 2310 Rijkevorsel'\n",
    "# address='Demerstraat 6 2060 Antwerpen'\n"
   ]
  },
  {
   "cell_type": "code",
   "execution_count": 4,
   "metadata": {},
   "outputs": [],
   "source": [
    "#get the address from the user\n",
    "def user_address():\n",
    "    address=input(\"enter the adress: \")\n",
    "    return address"
   ]
  },
  {
   "cell_type": "code",
   "execution_count": 5,
   "metadata": {},
   "outputs": [],
   "source": [
    "#get parameters from the address\n",
    "def address_parameter(address):\n",
    "    straatnaam=address.split()[0]\n",
    "    Huisnummer=address.split()[1]\n",
    "    postcode=address.split()[2]\n",
    "    gemeentenaam=address.split()[3]\n",
    "    \n",
    "    \n",
    "    l1=['straatnaam','Huisnummer','postcode','gemeentenaam']\n",
    "    l2=[straatnaam,Huisnummer,postcode,gemeentenaam]\n",
    "\n",
    "    parameters={}\n",
    "    parameters=dict(zip(l1,l2))\n",
    "    \n",
    "    return parameters\n"
   ]
  },
  {
   "cell_type": "code",
   "execution_count": 6,
   "metadata": {},
   "outputs": [],
   "source": [
    "#get coordinates of the address from api\n",
    "def Polygones(api_link,parameters):\n",
    "    \n",
    "    #make request to api\n",
    "    response_match= requests.get(api_link, parameters)\n",
    "    #get data with json \n",
    "    address_data1=response_match.json()\n",
    "    \n",
    "    #find the link that contain polygones\n",
    "    for item in address_data1['adresMatches']:\n",
    "        link1=item['adresseerbareObjecten'][0]['detail']  \n",
    "    \n",
    "    #make a request from link1 than contains polygones\n",
    "    response_match= requests.get(link1)\n",
    "    address_data2=response_match.json()\n",
    "    link2=address_data2['gebouw']['detail']\n",
    "    \n",
    "    \n",
    "    response_match= requests.get(link2)\n",
    "    address_data3=response_match.json()\n",
    "       \n",
    "\n",
    "    \n",
    "    coord = Polygon(address_data3['geometriePolygoon']['polygon']['coordinates'][0])\n",
    "    coord_list = address_data3['geometriePolygoon']['polygon']['coordinates'][0]\n",
    "\n",
    "    \n",
    "    return coord_list\n",
    "\n"
   ]
  },
  {
   "cell_type": "code",
   "execution_count": 8,
   "metadata": {},
   "outputs": [],
   "source": [
    "#get the list of tif files\n",
    "def tif_files(dsm_tif_path):\n",
    "    tif_file_lst = [file for file in os.listdir(dsm_tif_path) if file.endswith(\".tif\")] \n",
    "    tif_file_lst= natsort.natsorted(tif_file_lst,reverse=False)\n",
    "    return tif_file_lst"
   ]
  },
  {
   "cell_type": "code",
   "execution_count": 9,
   "metadata": {},
   "outputs": [],
   "source": [
    "#dsm_tif_path='/home/soukaina/project_3D_houses/3D_houses/tiff_dtm_dsm/tiff_dsm_file/'\n",
    "#find the boundingbox of the each tif file\n",
    "def bound_box(dsm_tif_path, dsm_tif_files):\n",
    "\n",
    "    l_dict = {}\n",
    "    print(dsm_tif_files)\n",
    "    for i in dsm_tif_files:\n",
    "        #print(dsm_tif_path+\"{}\".format(i))\n",
    "        b = rasterio.open(dsm_tif_path+\"{}\".format(i))\n",
    "        #b=gdal.Open(dsm_tif_path+\"{}\".format(i))\n",
    "        l_dict[i] = list(b.bounds)\n",
    "        print(l_dict)\n",
    "    return l_dict  "
   ]
  },
  {
   "cell_type": "code",
   "execution_count": 10,
   "metadata": {},
   "outputs": [],
   "source": [
    "#find in wich tif file is the coordinate of my address\n",
    "def check_tif(poly, bound_box):\n",
    "    for key,value in bound_box.items():\n",
    "        x = poly[0]\n",
    "        y = poly[1]\n",
    "        \n",
    "        l = value[0]\n",
    "        r = value[2]\n",
    "        b = value[1]\n",
    "        t = value[3]\n",
    "        \n",
    "        \n",
    "        if(x > l and x < r and y > b and y < t):\n",
    "            return key\n",
    "        else:\n",
    "            continue"
   ]
  },
  {
   "cell_type": "code",
   "execution_count": 11,
   "metadata": {},
   "outputs": [],
   "source": [
    "#clip the dsm tif file\n",
    "def clipping_dsm(dsm_tif_path, tif_file, poly):\n",
    "    #convert the list to type Polygone\n",
    "    coord = Polygon(poly)\n",
    "    with rasterio.open(dsm_tif_path+tif_file) as src:\n",
    "        out_image, out_transform = rasterio.mask.mask(src, [coord], crop=True)\n",
    "        c_dsm=out_image[0]\n",
    "    return c_dsm"
   ]
  },
  {
   "cell_type": "code",
   "execution_count": 12,
   "metadata": {},
   "outputs": [],
   "source": [
    "#clip the dtm tif file\n",
    "def clipping_dtm(dtm_tif_path, tif_file, poly):\n",
    "    coord = Polygon(poly)\n",
    "    with rasterio.open(dtm_tif_path+tif_file) as src:\n",
    "        out_image, out_transform = rasterio.mask.mask(src, [coord], crop=True)\n",
    "        c_dtm=out_image[0]\n",
    "    return c_dtm"
   ]
  },
  {
   "cell_type": "code",
   "execution_count": 13,
   "metadata": {},
   "outputs": [],
   "source": [
    "#plot the 3D canopy high model \n",
    "def plot_chm(c_dsm, c_dtm):\n",
    "    #calculate the the canopy high model\n",
    "    chm=c_dsm-c_dtm\n",
    "    #plot chm\n",
    "    fig= go.Figure(data = go.Surface(z=chm))\n",
    "    fig.update_layout(title='Polderstraat 8, 2910 Kruibeke', autosize=False,\n",
    "      width=600, height=600)\n",
    "    return fig.show()"
   ]
  },
  {
   "cell_type": "code",
   "execution_count": 14,
   "metadata": {},
   "outputs": [
    {
     "name": "stdout",
     "output_type": "stream",
     "text": [
      "enter the adress: Polderstraat 8 9150 Kruibeke\n",
      "<class 'list'>\n",
      "['DHMVIIDSMRAS1m_k01.tif']\n"
     ]
    },
    {
     "ename": "RasterioIOError",
     "evalue": "/home/soukaina/project_3D_houses/3D_houses/tiff_dtm_dsm/tiff_dsm1DHMVIIDSMRAS1m_k01.tif: No such file or directory",
     "output_type": "error",
     "traceback": [
      "\u001b[0;31m---------------------------------------------------------------------------\u001b[0m",
      "\u001b[0;31mCPLE_OpenFailedError\u001b[0m                      Traceback (most recent call last)",
      "File \u001b[0;32mrasterio/_base.pyx:216\u001b[0m, in \u001b[0;36mrasterio._base.DatasetBase.__init__\u001b[0;34m()\u001b[0m\n",
      "File \u001b[0;32mrasterio/_shim.pyx:78\u001b[0m, in \u001b[0;36mrasterio._shim.open_dataset\u001b[0;34m()\u001b[0m\n",
      "File \u001b[0;32mrasterio/_err.pyx:205\u001b[0m, in \u001b[0;36mrasterio._err.exc_wrap_pointer\u001b[0;34m()\u001b[0m\n",
      "\u001b[0;31mCPLE_OpenFailedError\u001b[0m: /home/soukaina/project_3D_houses/3D_houses/tiff_dtm_dsm/tiff_dsm1DHMVIIDSMRAS1m_k01.tif: No such file or directory",
      "\nDuring handling of the above exception, another exception occurred:\n",
      "\u001b[0;31mRasterioIOError\u001b[0m                           Traceback (most recent call last)",
      "Input \u001b[0;32mIn [14]\u001b[0m, in \u001b[0;36m<cell line: 37>\u001b[0;34m()\u001b[0m\n\u001b[1;32m     35\u001b[0m     plot_chm(c_dsm, c_dtm)\n\u001b[1;32m     37\u001b[0m \u001b[38;5;28;01mif\u001b[39;00m \u001b[38;5;18m__name__\u001b[39m \u001b[38;5;241m==\u001b[39m \u001b[38;5;124m\"\u001b[39m\u001b[38;5;124m__main__\u001b[39m\u001b[38;5;124m\"\u001b[39m:\n\u001b[0;32m---> 38\u001b[0m     \u001b[43mmain\u001b[49m\u001b[43m(\u001b[49m\u001b[43m)\u001b[49m\n",
      "Input \u001b[0;32mIn [14]\u001b[0m, in \u001b[0;36mmain\u001b[0;34m()\u001b[0m\n\u001b[1;32m     20\u001b[0m \u001b[38;5;28mprint\u001b[39m(\u001b[38;5;28mtype\u001b[39m(dsm_tif_files))\n\u001b[1;32m     21\u001b[0m     \u001b[38;5;66;03m#get boundingbox of tif files\u001b[39;00m\n\u001b[0;32m---> 22\u001b[0m bound_box_dsm \u001b[38;5;241m=\u001b[39m \u001b[43mbound_box\u001b[49m\u001b[43m(\u001b[49m\u001b[43mdsm_tif_path\u001b[49m\u001b[43m,\u001b[49m\u001b[43m \u001b[49m\u001b[43mdsm_tif_files\u001b[49m\u001b[43m)\u001b[49m\n\u001b[1;32m     23\u001b[0m     \u001b[38;5;66;03m#check the tif file that contains my address\u001b[39;00m\n\u001b[1;32m     24\u001b[0m check_tif_file \u001b[38;5;241m=\u001b[39m check_tif(poly[\u001b[38;5;241m0\u001b[39m], bound_box_dsm)\n",
      "Input \u001b[0;32mIn [9]\u001b[0m, in \u001b[0;36mbound_box\u001b[0;34m(dsm_tif_path, dsm_tif_files)\u001b[0m\n\u001b[1;32m      6\u001b[0m \u001b[38;5;28mprint\u001b[39m(dsm_tif_files)\n\u001b[1;32m      7\u001b[0m \u001b[38;5;28;01mfor\u001b[39;00m i \u001b[38;5;129;01min\u001b[39;00m dsm_tif_files:\n\u001b[1;32m      8\u001b[0m     \u001b[38;5;66;03m#print(dsm_tif_path+\"{}\".format(i))\u001b[39;00m\n\u001b[0;32m----> 9\u001b[0m     b \u001b[38;5;241m=\u001b[39m \u001b[43mrasterio\u001b[49m\u001b[38;5;241;43m.\u001b[39;49m\u001b[43mopen\u001b[49m\u001b[43m(\u001b[49m\u001b[43mdsm_tif_path\u001b[49m\u001b[38;5;241;43m+\u001b[39;49m\u001b[38;5;124;43m\"\u001b[39;49m\u001b[38;5;132;43;01m{}\u001b[39;49;00m\u001b[38;5;124;43m\"\u001b[39;49m\u001b[38;5;241;43m.\u001b[39;49m\u001b[43mformat\u001b[49m\u001b[43m(\u001b[49m\u001b[43mi\u001b[49m\u001b[43m)\u001b[49m\u001b[43m)\u001b[49m\n\u001b[1;32m     10\u001b[0m     \u001b[38;5;66;03m#b=gdal.Open(dsm_tif_path+\"{}\".format(i))\u001b[39;00m\n\u001b[1;32m     11\u001b[0m     l_dict[i] \u001b[38;5;241m=\u001b[39m \u001b[38;5;28mlist\u001b[39m(b\u001b[38;5;241m.\u001b[39mbounds)\n",
      "File \u001b[0;32m/usr/lib/python3/dist-packages/rasterio/env.py:434\u001b[0m, in \u001b[0;36mensure_env_with_credentials.<locals>.wrapper\u001b[0;34m(*args, **kwds)\u001b[0m\n\u001b[1;32m    431\u001b[0m     session \u001b[38;5;241m=\u001b[39m DummySession()\n\u001b[1;32m    433\u001b[0m \u001b[38;5;28;01mwith\u001b[39;00m env_ctor(session\u001b[38;5;241m=\u001b[39msession):\n\u001b[0;32m--> 434\u001b[0m     \u001b[38;5;28;01mreturn\u001b[39;00m \u001b[43mf\u001b[49m\u001b[43m(\u001b[49m\u001b[38;5;241;43m*\u001b[39;49m\u001b[43margs\u001b[49m\u001b[43m,\u001b[49m\u001b[43m \u001b[49m\u001b[38;5;241;43m*\u001b[39;49m\u001b[38;5;241;43m*\u001b[39;49m\u001b[43mkwds\u001b[49m\u001b[43m)\u001b[49m\n",
      "File \u001b[0;32m/usr/lib/python3/dist-packages/rasterio/__init__.py:219\u001b[0m, in \u001b[0;36mopen\u001b[0;34m(fp, mode, driver, width, height, count, crs, transform, dtype, nodata, sharing, **kwargs)\u001b[0m\n\u001b[1;32m    215\u001b[0m \u001b[38;5;66;03m# Create dataset instances and pass the given env, which will\u001b[39;00m\n\u001b[1;32m    216\u001b[0m \u001b[38;5;66;03m# be taken over by the dataset's context manager if it is not\u001b[39;00m\n\u001b[1;32m    217\u001b[0m \u001b[38;5;66;03m# None.\u001b[39;00m\n\u001b[1;32m    218\u001b[0m \u001b[38;5;28;01mif\u001b[39;00m mode \u001b[38;5;241m==\u001b[39m \u001b[38;5;124m'\u001b[39m\u001b[38;5;124mr\u001b[39m\u001b[38;5;124m'\u001b[39m:\n\u001b[0;32m--> 219\u001b[0m     s \u001b[38;5;241m=\u001b[39m \u001b[43mDatasetReader\u001b[49m\u001b[43m(\u001b[49m\u001b[43mpath\u001b[49m\u001b[43m,\u001b[49m\u001b[43m \u001b[49m\u001b[43mdriver\u001b[49m\u001b[38;5;241;43m=\u001b[39;49m\u001b[43mdriver\u001b[49m\u001b[43m,\u001b[49m\u001b[43m \u001b[49m\u001b[43msharing\u001b[49m\u001b[38;5;241;43m=\u001b[39;49m\u001b[43msharing\u001b[49m\u001b[43m,\u001b[49m\u001b[43m \u001b[49m\u001b[38;5;241;43m*\u001b[39;49m\u001b[38;5;241;43m*\u001b[39;49m\u001b[43mkwargs\u001b[49m\u001b[43m)\u001b[49m\n\u001b[1;32m    220\u001b[0m \u001b[38;5;28;01melif\u001b[39;00m mode \u001b[38;5;241m==\u001b[39m \u001b[38;5;124m'\u001b[39m\u001b[38;5;124mr+\u001b[39m\u001b[38;5;124m'\u001b[39m:\n\u001b[1;32m    221\u001b[0m     s \u001b[38;5;241m=\u001b[39m get_writer_for_path(path)(path, mode, driver\u001b[38;5;241m=\u001b[39mdriver, sharing\u001b[38;5;241m=\u001b[39msharing, \u001b[38;5;241m*\u001b[39m\u001b[38;5;241m*\u001b[39mkwargs)\n",
      "File \u001b[0;32mrasterio/_base.pyx:218\u001b[0m, in \u001b[0;36mrasterio._base.DatasetBase.__init__\u001b[0;34m()\u001b[0m\n",
      "\u001b[0;31mRasterioIOError\u001b[0m: /home/soukaina/project_3D_houses/3D_houses/tiff_dtm_dsm/tiff_dsm1DHMVIIDSMRAS1m_k01.tif: No such file or directory"
     ]
    }
   ],
   "source": [
    "def main():\n",
    "    \n",
    "    #extract data from the api link of flander\n",
    "    api_link=\"https://api.basisregisters.vlaanderen.be/v1/adresmatch\"\n",
    "    \n",
    "    #get address from the user\n",
    "    address=user_address()\n",
    "    \n",
    "    #get parameters from the address\n",
    "    parameters=address_parameter(address)\n",
    "   \n",
    "    # DSM Operations\n",
    "    dsm_tif_path='/home/soukaina/Downloads/tiff_dtm_dsm/tiff_dsm_file/'\n",
    "    \n",
    "        # find polygones\n",
    "    poly = Polygones(api_link,parameters)\n",
    "        #get tif files\n",
    "    dsm_tif_files = tif_files(dsm_tif_path)\n",
    "    print(type(dsm_tif_files))\n",
    "        #get boundingbox of tif files\n",
    "    bound_box_dsm = bound_box(dsm_tif_path, dsm_tif_files)\n",
    "        #check the tif file that contains my address\n",
    "    check_tif_file = check_tif(poly[0], bound_box_dsm)\n",
    "        #clip dsm tif file\n",
    "    c_dsm = clipping_dsm(dsm_tif_path, check_tif_file, poly)\n",
    "    \n",
    "    # DTM operations\n",
    "    dtm_tif_path='/home/soukaina/Downloads/tiff_dtm_dsm/tiff_dtm_file/'\n",
    "        #clip dtm tif file\n",
    "    dtm_file = check_tif_file.replace('DSM', 'DTM')\n",
    "    c_dtm = clipping_dtm(dtm_tif_path, dtm_file, poly)\n",
    "    \n",
    "    # get chm and plot it in 3D\n",
    "    plot_chm(c_dsm, c_dtm)\n",
    "    \n",
    "if __name__ == \"__main__\":\n",
    "    main()\n",
    "\n"
   ]
  },
  {
   "cell_type": "code",
   "execution_count": null,
   "metadata": {},
   "outputs": [],
   "source": [
    "#the api link to extract data\n",
    "# api_link=\"https://api.basisregisters.vlaanderen.be/v1/adresmatch\"\n",
    "\n",
    "#the address Rijkevorsel the house  \n",
    "# address='Berkenlaan 6 2310 '\n",
    "# address='Demerstraat 6 2060 Antwerpen'\n",
    "# link=\"/home/soukaina/dtm dsm/dsm/tiff_dsm\""
   ]
  }
 ],
 "metadata": {
  "kernelspec": {
   "display_name": "Python 3",
   "language": "python",
   "name": "python3"
  },
  "language_info": {
   "codemirror_mode": {
    "name": "ipython",
    "version": 3
   },
   "file_extension": ".py",
   "mimetype": "text/x-python",
   "name": "python",
   "nbconvert_exporter": "python",
   "pygments_lexer": "ipython3",
   "version": "3.8.10"
  }
 },
 "nbformat": 4,
 "nbformat_minor": 4
}
